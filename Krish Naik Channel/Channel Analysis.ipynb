{
 "cells": [
  {
   "cell_type": "markdown",
   "id": "133618ae",
   "metadata": {},
   "source": [
    "### As we have collected data previously , Now we will Analyse that data and find some insights"
   ]
  },
  {
   "cell_type": "code",
   "execution_count": 1,
   "id": "61d93a9d",
   "metadata": {},
   "outputs": [],
   "source": [
    "# First of all , we will import some libraries\n",
    "import pandas as pd\n",
    "import seaborn as sns\n",
    "import matplotlib\n",
    "import matplotlib.pyplot as plt\n",
    "%matplotlib inline\n",
    "\n",
    "sns.set_style('darkgrid')\n",
    "matplotlib.rcParams['font.size'] = 14\n",
    "matplotlib.rcParams['figure.figsize'] = (12, 5)\n",
    "matplotlib.rcParams['figure.facecolor'] = '#00000000'"
   ]
  },
  {
   "cell_type": "markdown",
   "id": "6f018cb9",
   "metadata": {},
   "source": [
    "##### Importing Dataset & EDA"
   ]
  },
  {
   "cell_type": "code",
   "execution_count": 2,
   "id": "ccbf4365",
   "metadata": {},
   "outputs": [],
   "source": [
    "#First of all we will import our dataset in a dataframe\n",
    "data = pd.read_csv('KrishNaik.csv')"
   ]
  },
  {
   "cell_type": "code",
   "execution_count": 3,
   "id": "095a71fa",
   "metadata": {},
   "outputs": [
    {
     "data": {
      "text/html": [
       "<div>\n",
       "<style scoped>\n",
       "    .dataframe tbody tr th:only-of-type {\n",
       "        vertical-align: middle;\n",
       "    }\n",
       "\n",
       "    .dataframe tbody tr th {\n",
       "        vertical-align: top;\n",
       "    }\n",
       "\n",
       "    .dataframe thead th {\n",
       "        text-align: right;\n",
       "    }\n",
       "</style>\n",
       "<table border=\"1\" class=\"dataframe\">\n",
       "  <thead>\n",
       "    <tr style=\"text-align: right;\">\n",
       "      <th></th>\n",
       "      <th>Title</th>\n",
       "      <th>Published_date</th>\n",
       "      <th>Views</th>\n",
       "      <th>Likes</th>\n",
       "    </tr>\n",
       "  </thead>\n",
       "  <tbody>\n",
       "    <tr>\n",
       "      <th>0</th>\n",
       "      <td>Announcing 7 Days Live Sessions On Machine Lea...</td>\n",
       "      <td>2022-01-31</td>\n",
       "      <td>10910</td>\n",
       "      <td>953</td>\n",
       "    </tr>\n",
       "    <tr>\n",
       "      <th>1</th>\n",
       "      <td>Earth In 2050</td>\n",
       "      <td>2022-01-30</td>\n",
       "      <td>9785</td>\n",
       "      <td>290</td>\n",
       "    </tr>\n",
       "    <tr>\n",
       "      <th>2</th>\n",
       "      <td>How To Calculate P Value In Hypothesis Testing</td>\n",
       "      <td>2022-01-30</td>\n",
       "      <td>3451</td>\n",
       "      <td>155</td>\n",
       "    </tr>\n",
       "    <tr>\n",
       "      <th>3</th>\n",
       "      <td>Live Day 7- Summarizing Statistics With Python...</td>\n",
       "      <td>2022-01-29</td>\n",
       "      <td>9142</td>\n",
       "      <td>614</td>\n",
       "    </tr>\n",
       "    <tr>\n",
       "      <th>4</th>\n",
       "      <td>Tutorial 9- MYSQL Stored Procedures -MySQL Com...</td>\n",
       "      <td>2022-01-29</td>\n",
       "      <td>2846</td>\n",
       "      <td>105</td>\n",
       "    </tr>\n",
       "  </tbody>\n",
       "</table>\n",
       "</div>"
      ],
      "text/plain": [
       "                                               Title Published_date  Views  \\\n",
       "0  Announcing 7 Days Live Sessions On Machine Lea...     2022-01-31  10910   \n",
       "1                                      Earth In 2050     2022-01-30   9785   \n",
       "2     How To Calculate P Value In Hypothesis Testing     2022-01-30   3451   \n",
       "3  Live Day 7- Summarizing Statistics With Python...     2022-01-29   9142   \n",
       "4  Tutorial 9- MYSQL Stored Procedures -MySQL Com...     2022-01-29   2846   \n",
       "\n",
       "   Likes  \n",
       "0    953  \n",
       "1    290  \n",
       "2    155  \n",
       "3    614  \n",
       "4    105  "
      ]
     },
     "execution_count": 3,
     "metadata": {},
     "output_type": "execute_result"
    }
   ],
   "source": [
    "data.head()"
   ]
  },
  {
   "cell_type": "code",
   "execution_count": 4,
   "id": "20d4f279",
   "metadata": {},
   "outputs": [
    {
     "name": "stdout",
     "output_type": "stream",
     "text": [
      "Number of rows =  1315 \n",
      "Number of columns =  4 \n",
      "Size of the dataset =  5260  elements.\n"
     ]
    }
   ],
   "source": [
    "print('Number of rows = ',data.shape[0],'\\nNumber of columns = ',data.shape[1],'\\nSize of the dataset = ',data.size,' elements.')"
   ]
  },
  {
   "cell_type": "code",
   "execution_count": 5,
   "id": "174860b3",
   "metadata": {},
   "outputs": [
    {
     "name": "stdout",
     "output_type": "stream",
     "text": [
      "<class 'pandas.core.frame.DataFrame'>\n",
      "RangeIndex: 1315 entries, 0 to 1314\n",
      "Data columns (total 4 columns):\n",
      " #   Column          Non-Null Count  Dtype \n",
      "---  ------          --------------  ----- \n",
      " 0   Title           1315 non-null   object\n",
      " 1   Published_date  1315 non-null   object\n",
      " 2   Views           1315 non-null   int64 \n",
      " 3   Likes           1315 non-null   int64 \n",
      "dtypes: int64(2), object(2)\n",
      "memory usage: 41.2+ KB\n"
     ]
    }
   ],
   "source": [
    "data.info()"
   ]
  },
  {
   "cell_type": "code",
   "execution_count": 6,
   "id": "45c2bf5d",
   "metadata": {},
   "outputs": [
    {
     "data": {
      "text/html": [
       "<div>\n",
       "<style scoped>\n",
       "    .dataframe tbody tr th:only-of-type {\n",
       "        vertical-align: middle;\n",
       "    }\n",
       "\n",
       "    .dataframe tbody tr th {\n",
       "        vertical-align: top;\n",
       "    }\n",
       "\n",
       "    .dataframe thead th {\n",
       "        text-align: right;\n",
       "    }\n",
       "</style>\n",
       "<table border=\"1\" class=\"dataframe\">\n",
       "  <thead>\n",
       "    <tr style=\"text-align: right;\">\n",
       "      <th></th>\n",
       "      <th>Views</th>\n",
       "      <th>Likes</th>\n",
       "    </tr>\n",
       "  </thead>\n",
       "  <tbody>\n",
       "    <tr>\n",
       "      <th>count</th>\n",
       "      <td>1.315000e+03</td>\n",
       "      <td>1315.000000</td>\n",
       "    </tr>\n",
       "    <tr>\n",
       "      <th>mean</th>\n",
       "      <td>3.533293e+04</td>\n",
       "      <td>931.196958</td>\n",
       "    </tr>\n",
       "    <tr>\n",
       "      <th>std</th>\n",
       "      <td>8.739598e+04</td>\n",
       "      <td>2192.562449</td>\n",
       "    </tr>\n",
       "    <tr>\n",
       "      <th>min</th>\n",
       "      <td>9.350000e+02</td>\n",
       "      <td>11.000000</td>\n",
       "    </tr>\n",
       "    <tr>\n",
       "      <th>25%</th>\n",
       "      <td>7.166000e+03</td>\n",
       "      <td>234.000000</td>\n",
       "    </tr>\n",
       "    <tr>\n",
       "      <th>50%</th>\n",
       "      <td>1.426100e+04</td>\n",
       "      <td>451.000000</td>\n",
       "    </tr>\n",
       "    <tr>\n",
       "      <th>75%</th>\n",
       "      <td>3.313250e+04</td>\n",
       "      <td>992.000000</td>\n",
       "    </tr>\n",
       "    <tr>\n",
       "      <th>max</th>\n",
       "      <td>1.989894e+06</td>\n",
       "      <td>49165.000000</td>\n",
       "    </tr>\n",
       "  </tbody>\n",
       "</table>\n",
       "</div>"
      ],
      "text/plain": [
       "              Views         Likes\n",
       "count  1.315000e+03   1315.000000\n",
       "mean   3.533293e+04    931.196958\n",
       "std    8.739598e+04   2192.562449\n",
       "min    9.350000e+02     11.000000\n",
       "25%    7.166000e+03    234.000000\n",
       "50%    1.426100e+04    451.000000\n",
       "75%    3.313250e+04    992.000000\n",
       "max    1.989894e+06  49165.000000"
      ]
     },
     "execution_count": 6,
     "metadata": {},
     "output_type": "execute_result"
    }
   ],
   "source": [
    "data.describe()"
   ]
  },
  {
   "cell_type": "markdown",
   "id": "48e82b51",
   "metadata": {},
   "source": [
    "### Making published date and time more readable"
   ]
  },
  {
   "cell_type": "code",
   "execution_count": 8,
   "id": "3105934f",
   "metadata": {},
   "outputs": [],
   "source": [
    "# Importing datetime library which provides great functions to handle date and time information\n",
    "import datetime\n",
    "i=0\n",
    "for i in range(data.shape[0]):\n",
    "    date_time_obj = datetime.datetime.strptime(data['Published_date'].at[i], '%Y-%m-%d')\n",
    "    data['Published_date'].at[i] = date_time_obj\n",
    "    i = i+1"
   ]
  },
  {
   "cell_type": "code",
   "execution_count": 9,
   "id": "c4dfd199",
   "metadata": {},
   "outputs": [],
   "source": [
    "i=0\n",
    "date=[]\n",
    "year=[]\n",
    "month=[]\n",
    "day=[]\n",
    "for i in range(data.shape[0]):\n",
    "    d = data['Published_date'][i].date();\n",
    "    y = data['Published_date'][i].date().year;\n",
    "    m = data['Published_date'][i].date().month;\n",
    "    da = data['Published_date'][i].date().day;\n",
    "    date.append(d) # Storing dates\n",
    "    year.append(y) # Storing years\n",
    "    month.append(m) # Storing months\n",
    "    day.append(da) # Storing days\n",
    "    i = i+1\n",
    "data.drop(['Published_date'], inplace=True,axis=1)\n",
    "data['Published_date']=date\n",
    "data['year']=year\n",
    "data['month'] = month\n",
    "data['day'] = day"
   ]
  },
  {
   "cell_type": "code",
   "execution_count": 10,
   "id": "21493b26",
   "metadata": {},
   "outputs": [
    {
     "data": {
      "text/html": [
       "<div>\n",
       "<style scoped>\n",
       "    .dataframe tbody tr th:only-of-type {\n",
       "        vertical-align: middle;\n",
       "    }\n",
       "\n",
       "    .dataframe tbody tr th {\n",
       "        vertical-align: top;\n",
       "    }\n",
       "\n",
       "    .dataframe thead th {\n",
       "        text-align: right;\n",
       "    }\n",
       "</style>\n",
       "<table border=\"1\" class=\"dataframe\">\n",
       "  <thead>\n",
       "    <tr style=\"text-align: right;\">\n",
       "      <th></th>\n",
       "      <th>Title</th>\n",
       "      <th>Views</th>\n",
       "      <th>Likes</th>\n",
       "      <th>Published_date</th>\n",
       "      <th>year</th>\n",
       "      <th>month</th>\n",
       "      <th>day</th>\n",
       "    </tr>\n",
       "  </thead>\n",
       "  <tbody>\n",
       "    <tr>\n",
       "      <th>0</th>\n",
       "      <td>Announcing 7 Days Live Sessions On Machine Lea...</td>\n",
       "      <td>10910</td>\n",
       "      <td>953</td>\n",
       "      <td>2022-01-31</td>\n",
       "      <td>2022</td>\n",
       "      <td>1</td>\n",
       "      <td>31</td>\n",
       "    </tr>\n",
       "    <tr>\n",
       "      <th>1</th>\n",
       "      <td>Earth In 2050</td>\n",
       "      <td>9785</td>\n",
       "      <td>290</td>\n",
       "      <td>2022-01-30</td>\n",
       "      <td>2022</td>\n",
       "      <td>1</td>\n",
       "      <td>30</td>\n",
       "    </tr>\n",
       "    <tr>\n",
       "      <th>2</th>\n",
       "      <td>How To Calculate P Value In Hypothesis Testing</td>\n",
       "      <td>3451</td>\n",
       "      <td>155</td>\n",
       "      <td>2022-01-30</td>\n",
       "      <td>2022</td>\n",
       "      <td>1</td>\n",
       "      <td>30</td>\n",
       "    </tr>\n",
       "    <tr>\n",
       "      <th>3</th>\n",
       "      <td>Live Day 7- Summarizing Statistics With Python...</td>\n",
       "      <td>9142</td>\n",
       "      <td>614</td>\n",
       "      <td>2022-01-29</td>\n",
       "      <td>2022</td>\n",
       "      <td>1</td>\n",
       "      <td>29</td>\n",
       "    </tr>\n",
       "    <tr>\n",
       "      <th>4</th>\n",
       "      <td>Tutorial 9- MYSQL Stored Procedures -MySQL Com...</td>\n",
       "      <td>2846</td>\n",
       "      <td>105</td>\n",
       "      <td>2022-01-29</td>\n",
       "      <td>2022</td>\n",
       "      <td>1</td>\n",
       "      <td>29</td>\n",
       "    </tr>\n",
       "    <tr>\n",
       "      <th>...</th>\n",
       "      <td>...</td>\n",
       "      <td>...</td>\n",
       "      <td>...</td>\n",
       "      <td>...</td>\n",
       "      <td>...</td>\n",
       "      <td>...</td>\n",
       "      <td>...</td>\n",
       "    </tr>\n",
       "    <tr>\n",
       "      <th>1310</th>\n",
       "      <td>Important libraries used in python Data Scienc...</td>\n",
       "      <td>16567</td>\n",
       "      <td>143</td>\n",
       "      <td>2017-11-26</td>\n",
       "      <td>2017</td>\n",
       "      <td>11</td>\n",
       "      <td>26</td>\n",
       "    </tr>\n",
       "    <tr>\n",
       "      <th>1311</th>\n",
       "      <td>Anaconda installation with Packages- Machine L...</td>\n",
       "      <td>69721</td>\n",
       "      <td>312</td>\n",
       "      <td>2017-11-26</td>\n",
       "      <td>2017</td>\n",
       "      <td>11</td>\n",
       "      <td>26</td>\n",
       "    </tr>\n",
       "    <tr>\n",
       "      <th>1312</th>\n",
       "      <td>What is Supervised Machine Learning- Machine L...</td>\n",
       "      <td>27027</td>\n",
       "      <td>312</td>\n",
       "      <td>2017-11-26</td>\n",
       "      <td>2017</td>\n",
       "      <td>11</td>\n",
       "      <td>26</td>\n",
       "    </tr>\n",
       "    <tr>\n",
       "      <th>1313</th>\n",
       "      <td>What is Machine Learning in Data Science- Mach...</td>\n",
       "      <td>104754</td>\n",
       "      <td>633</td>\n",
       "      <td>2017-11-25</td>\n",
       "      <td>2017</td>\n",
       "      <td>11</td>\n",
       "      <td>25</td>\n",
       "    </tr>\n",
       "    <tr>\n",
       "      <th>1314</th>\n",
       "      <td>Maeri unplugged by Krish and band</td>\n",
       "      <td>4364</td>\n",
       "      <td>117</td>\n",
       "      <td>2014-06-01</td>\n",
       "      <td>2014</td>\n",
       "      <td>6</td>\n",
       "      <td>1</td>\n",
       "    </tr>\n",
       "  </tbody>\n",
       "</table>\n",
       "<p>1315 rows × 7 columns</p>\n",
       "</div>"
      ],
      "text/plain": [
       "                                                  Title   Views  Likes  \\\n",
       "0     Announcing 7 Days Live Sessions On Machine Lea...   10910    953   \n",
       "1                                         Earth In 2050    9785    290   \n",
       "2        How To Calculate P Value In Hypothesis Testing    3451    155   \n",
       "3     Live Day 7- Summarizing Statistics With Python...    9142    614   \n",
       "4     Tutorial 9- MYSQL Stored Procedures -MySQL Com...    2846    105   \n",
       "...                                                 ...     ...    ...   \n",
       "1310  Important libraries used in python Data Scienc...   16567    143   \n",
       "1311  Anaconda installation with Packages- Machine L...   69721    312   \n",
       "1312  What is Supervised Machine Learning- Machine L...   27027    312   \n",
       "1313  What is Machine Learning in Data Science- Mach...  104754    633   \n",
       "1314                  Maeri unplugged by Krish and band    4364    117   \n",
       "\n",
       "     Published_date  year  month  day  \n",
       "0        2022-01-31  2022      1   31  \n",
       "1        2022-01-30  2022      1   30  \n",
       "2        2022-01-30  2022      1   30  \n",
       "3        2022-01-29  2022      1   29  \n",
       "4        2022-01-29  2022      1   29  \n",
       "...             ...   ...    ...  ...  \n",
       "1310     2017-11-26  2017     11   26  \n",
       "1311     2017-11-26  2017     11   26  \n",
       "1312     2017-11-26  2017     11   26  \n",
       "1313     2017-11-25  2017     11   25  \n",
       "1314     2014-06-01  2014      6    1  \n",
       "\n",
       "[1315 rows x 7 columns]"
      ]
     },
     "execution_count": 10,
     "metadata": {},
     "output_type": "execute_result"
    }
   ],
   "source": [
    "data"
   ]
  },
  {
   "cell_type": "markdown",
   "id": "aea0f012",
   "metadata": {},
   "source": [
    "### Exploratory Analysis and Visualization\n",
    "\n",
    "In this section,will see different relationships among channel statistics parameters ( views, likes, comments, dislikes etc). "
   ]
  },
  {
   "cell_type": "markdown",
   "id": "afebe3d4",
   "metadata": {},
   "source": [
    "##### Total views, likes, and comments of all videos"
   ]
  },
  {
   "cell_type": "code",
   "execution_count": 12,
   "id": "82012546",
   "metadata": {},
   "outputs": [
    {
     "data": {
      "text/plain": [
       "Views    46462800\n",
       "Likes     1224524\n",
       "dtype: int64"
      ]
     },
     "execution_count": 12,
     "metadata": {},
     "output_type": "execute_result"
    }
   ],
   "source": [
    "data[['Views','Likes']].sum()"
   ]
  },
  {
   "cell_type": "markdown",
   "id": "70c64383",
   "metadata": {},
   "source": [
    "##### Average no. of views, likes, comments on each video "
   ]
  },
  {
   "cell_type": "code",
   "execution_count": 14,
   "id": "4e500201",
   "metadata": {},
   "outputs": [
    {
     "name": "stdout",
     "output_type": "stream",
     "text": [
      "Average number of views on video =  35332.92775665399 \n",
      "Average number of likes on video =  931.1969581749049\n"
     ]
    }
   ],
   "source": [
    "AvgLikes = data.describe()['Likes']['mean']\n",
    "AvgViews = data.describe()['Views']['mean']\n",
    "print('Average number of views on video = ',AvgViews,'\\nAverage number of likes on video = ',AvgLikes)"
   ]
  },
  {
   "cell_type": "markdown",
   "id": "c893057e",
   "metadata": {},
   "source": [
    "## Monthwise Statistics"
   ]
  },
  {
   "cell_type": "markdown",
   "id": "ada93233",
   "metadata": {},
   "source": [
    "#### Monthwise uploaded videos"
   ]
  },
  {
   "cell_type": "code",
   "execution_count": 17,
   "id": "10a71d7f",
   "metadata": {},
   "outputs": [
    {
     "data": {
      "text/html": [
       "<div>\n",
       "<style scoped>\n",
       "    .dataframe tbody tr th:only-of-type {\n",
       "        vertical-align: middle;\n",
       "    }\n",
       "\n",
       "    .dataframe tbody tr th {\n",
       "        vertical-align: top;\n",
       "    }\n",
       "\n",
       "    .dataframe thead th {\n",
       "        text-align: right;\n",
       "    }\n",
       "</style>\n",
       "<table border=\"1\" class=\"dataframe\">\n",
       "  <thead>\n",
       "    <tr style=\"text-align: right;\">\n",
       "      <th></th>\n",
       "      <th>month</th>\n",
       "      <th>size</th>\n",
       "    </tr>\n",
       "  </thead>\n",
       "  <tbody>\n",
       "    <tr>\n",
       "      <th>0</th>\n",
       "      <td>1</td>\n",
       "      <td>161</td>\n",
       "    </tr>\n",
       "    <tr>\n",
       "      <th>1</th>\n",
       "      <td>2</td>\n",
       "      <td>91</td>\n",
       "    </tr>\n",
       "    <tr>\n",
       "      <th>2</th>\n",
       "      <td>3</td>\n",
       "      <td>108</td>\n",
       "    </tr>\n",
       "    <tr>\n",
       "      <th>3</th>\n",
       "      <td>4</td>\n",
       "      <td>114</td>\n",
       "    </tr>\n",
       "    <tr>\n",
       "      <th>4</th>\n",
       "      <td>5</td>\n",
       "      <td>105</td>\n",
       "    </tr>\n",
       "    <tr>\n",
       "      <th>5</th>\n",
       "      <td>6</td>\n",
       "      <td>124</td>\n",
       "    </tr>\n",
       "    <tr>\n",
       "      <th>6</th>\n",
       "      <td>7</td>\n",
       "      <td>111</td>\n",
       "    </tr>\n",
       "    <tr>\n",
       "      <th>7</th>\n",
       "      <td>8</td>\n",
       "      <td>124</td>\n",
       "    </tr>\n",
       "    <tr>\n",
       "      <th>8</th>\n",
       "      <td>9</td>\n",
       "      <td>105</td>\n",
       "    </tr>\n",
       "    <tr>\n",
       "      <th>9</th>\n",
       "      <td>10</td>\n",
       "      <td>96</td>\n",
       "    </tr>\n",
       "    <tr>\n",
       "      <th>10</th>\n",
       "      <td>11</td>\n",
       "      <td>89</td>\n",
       "    </tr>\n",
       "    <tr>\n",
       "      <th>11</th>\n",
       "      <td>12</td>\n",
       "      <td>87</td>\n",
       "    </tr>\n",
       "  </tbody>\n",
       "</table>\n",
       "</div>"
      ],
      "text/plain": [
       "    month  size\n",
       "0       1   161\n",
       "1       2    91\n",
       "2       3   108\n",
       "3       4   114\n",
       "4       5   105\n",
       "5       6   124\n",
       "6       7   111\n",
       "7       8   124\n",
       "8       9   105\n",
       "9      10    96\n",
       "10     11    89\n",
       "11     12    87"
      ]
     },
     "execution_count": 17,
     "metadata": {},
     "output_type": "execute_result"
    }
   ],
   "source": [
    "videos_per_month = data.groupby('month', as_index=False).size()\n",
    "videos_per_month"
   ]
  },
  {
   "cell_type": "code",
   "execution_count": 18,
   "id": "ff23c538",
   "metadata": {},
   "outputs": [
    {
     "data": {
      "image/png": "[encoded data removed]",
      "text/plain": [
       "<Figure size 864x360 with 1 Axes>"
      ]
     },
     "metadata": {
      "needs_background": "light"
     },
     "output_type": "display_data"
    }
   ],
   "source": [
    "ax2 = sns.barplot(x='month', y='size', data=videos_per_month)"
   ]
  },
  {
   "cell_type": "markdown",
   "id": "da69daea",
   "metadata": {},
   "source": [
    "**Insights**:<br>1. Krish Naik Sir uploads highest number of videos in month of 'Jan' which is more than videos being uploaded in other months.<br>2. Krish Naik Sir uploads lowest number of videos in month of 'December'."
   ]
  },
  {
   "cell_type": "markdown",
   "id": "610eb138",
   "metadata": {},
   "source": [
    "#### Monthwise total views and likes "
   ]
  },
  {
   "cell_type": "code",
   "execution_count": 20,
   "id": "c13c044d",
   "metadata": {},
   "outputs": [
    {
     "data": {
      "text/html": [
       "<div>\n",
       "<style scoped>\n",
       "    .dataframe tbody tr th:only-of-type {\n",
       "        vertical-align: middle;\n",
       "    }\n",
       "\n",
       "    .dataframe tbody tr th {\n",
       "        vertical-align: top;\n",
       "    }\n",
       "\n",
       "    .dataframe thead th {\n",
       "        text-align: right;\n",
       "    }\n",
       "</style>\n",
       "<table border=\"1\" class=\"dataframe\">\n",
       "  <thead>\n",
       "    <tr style=\"text-align: right;\">\n",
       "      <th></th>\n",
       "      <th>Views</th>\n",
       "      <th>Likes</th>\n",
       "      <th>year</th>\n",
       "      <th>day</th>\n",
       "    </tr>\n",
       "    <tr>\n",
       "      <th>month</th>\n",
       "      <th></th>\n",
       "      <th></th>\n",
       "      <th></th>\n",
       "      <th></th>\n",
       "    </tr>\n",
       "  </thead>\n",
       "  <tbody>\n",
       "    <tr>\n",
       "      <th>1</th>\n",
       "      <td>5821048</td>\n",
       "      <td>136440</td>\n",
       "      <td>325342</td>\n",
       "      <td>2633</td>\n",
       "    </tr>\n",
       "    <tr>\n",
       "      <th>2</th>\n",
       "      <td>2253019</td>\n",
       "      <td>57214</td>\n",
       "      <td>183839</td>\n",
       "      <td>1264</td>\n",
       "    </tr>\n",
       "    <tr>\n",
       "      <th>3</th>\n",
       "      <td>2324325</td>\n",
       "      <td>58217</td>\n",
       "      <td>218189</td>\n",
       "      <td>1899</td>\n",
       "    </tr>\n",
       "    <tr>\n",
       "      <th>4</th>\n",
       "      <td>2266222</td>\n",
       "      <td>67392</td>\n",
       "      <td>230329</td>\n",
       "      <td>1516</td>\n",
       "    </tr>\n",
       "    <tr>\n",
       "      <th>5</th>\n",
       "      <td>2854741</td>\n",
       "      <td>82217</td>\n",
       "      <td>212149</td>\n",
       "      <td>1666</td>\n",
       "    </tr>\n",
       "    <tr>\n",
       "      <th>6</th>\n",
       "      <td>2949833</td>\n",
       "      <td>77346</td>\n",
       "      <td>250506</td>\n",
       "      <td>1923</td>\n",
       "    </tr>\n",
       "    <tr>\n",
       "      <th>7</th>\n",
       "      <td>4041828</td>\n",
       "      <td>117775</td>\n",
       "      <td>224236</td>\n",
       "      <td>1770</td>\n",
       "    </tr>\n",
       "    <tr>\n",
       "      <th>8</th>\n",
       "      <td>7303600</td>\n",
       "      <td>233470</td>\n",
       "      <td>250476</td>\n",
       "      <td>2039</td>\n",
       "    </tr>\n",
       "    <tr>\n",
       "      <th>9</th>\n",
       "      <td>6140186</td>\n",
       "      <td>129935</td>\n",
       "      <td>212080</td>\n",
       "      <td>1419</td>\n",
       "    </tr>\n",
       "    <tr>\n",
       "      <th>10</th>\n",
       "      <td>2279400</td>\n",
       "      <td>63980</td>\n",
       "      <td>193917</td>\n",
       "      <td>1560</td>\n",
       "    </tr>\n",
       "    <tr>\n",
       "      <th>11</th>\n",
       "      <td>4486631</td>\n",
       "      <td>115378</td>\n",
       "      <td>179752</td>\n",
       "      <td>1304</td>\n",
       "    </tr>\n",
       "    <tr>\n",
       "      <th>12</th>\n",
       "      <td>3741967</td>\n",
       "      <td>85160</td>\n",
       "      <td>175728</td>\n",
       "      <td>1499</td>\n",
       "    </tr>\n",
       "  </tbody>\n",
       "</table>\n",
       "</div>"
      ],
      "text/plain": [
       "         Views   Likes    year   day\n",
       "month                               \n",
       "1      5821048  136440  325342  2633\n",
       "2      2253019   57214  183839  1264\n",
       "3      2324325   58217  218189  1899\n",
       "4      2266222   67392  230329  1516\n",
       "5      2854741   82217  212149  1666\n",
       "6      2949833   77346  250506  1923\n",
       "7      4041828  117775  224236  1770\n",
       "8      7303600  233470  250476  2039\n",
       "9      6140186  129935  212080  1419\n",
       "10     2279400   63980  193917  1560\n",
       "11     4486631  115378  179752  1304\n",
       "12     3741967   85160  175728  1499"
      ]
     },
     "execution_count": 20,
     "metadata": {},
     "output_type": "execute_result"
    }
   ],
   "source": [
    "data.groupby(data['month']).sum()"
   ]
  },
  {
   "cell_type": "markdown",
   "id": "aa96b9e9",
   "metadata": {},
   "source": [
    "#### Monthwise statistics using scatterplots"
   ]
  },
  {
   "cell_type": "code",
   "execution_count": 21,
   "id": "d4d33c4b",
   "metadata": {},
   "outputs": [
    {
     "data": {
      "image/png": "[encoded data removed]",
      "text/plain": [
       "<Figure size 864x360 with 2 Axes>"
      ]
     },
     "metadata": {
      "needs_background": "light"
     },
     "output_type": "display_data"
    }
   ],
   "source": [
    "# Importing sys module which provides access to some variables used or maintained by the interpreter and to functions that interact strongly with the interpreter.\n",
    "import sys\n",
    "\n",
    "if not sys.warnoptions:\n",
    "    # Importing warnings library to handle warnings\n",
    "    import warnings\n",
    "    warnings.simplefilter(\"ignore\")\n",
    "    \n",
    "fig, (ax1, ax2) = plt.subplots(1, 2)\n",
    "\n",
    "# Monthwise statistics of views\n",
    "sns.scatterplot(data['month'],data['Views'],ax=ax1)\n",
    "ax1.set_title('Figure 1',fontsize=12)\n",
    "ax1.set_xticks(data['month'])\n",
    "ax1.set_xticklabels(data['month'],rotation=90,fontsize=10)\n",
    "\n",
    "# Monthwise statistics of likes\n",
    "sns.scatterplot(data['month'],data['Likes'],ax=ax2)\n",
    "ax2.set_title('Figure 2',fontsize=12)\n",
    "ax2.set_xticks(data['month'])\n",
    "ax2.set_xticklabels(data['month'],rotation=90,fontsize=10)\n",
    "\n",
    "plt.tight_layout(pad=3)"
   ]
  },
  {
   "cell_type": "markdown",
   "id": "f6197c66",
   "metadata": {},
   "source": [
    "**Insights**: <br>1. Krish Naik Sir uploaded his most viewed video in month of 'November'.<br>2. Krish Naik uploaded his most liked video in month of 'November'."
   ]
  },
  {
   "cell_type": "markdown",
   "id": "fee12b9b",
   "metadata": {},
   "source": [
    "### Yearwise Statistics"
   ]
  },
  {
   "cell_type": "markdown",
   "id": "589bd103",
   "metadata": {},
   "source": [
    "#### Yearwise uploaded videos"
   ]
  },
  {
   "cell_type": "code",
   "execution_count": 22,
   "id": "300b3b2f",
   "metadata": {},
   "outputs": [
    {
     "data": {
      "text/plain": [
       "year\n",
       "2014      1\n",
       "2017      4\n",
       "2018      8\n",
       "2019    276\n",
       "2020    516\n",
       "2021    467\n",
       "2022     43\n",
       "Name: year, dtype: int64"
      ]
     },
     "execution_count": 22,
     "metadata": {},
     "output_type": "execute_result"
    }
   ],
   "source": [
    "data.groupby('year')['year'].count()"
   ]
  },
  {
   "cell_type": "markdown",
   "id": "04c099f5",
   "metadata": {},
   "source": [
    "**Insights**: Krish Naik Sir uploaded highest number of videos in year 2020."
   ]
  },
  {
   "cell_type": "markdown",
   "id": "f04b882e",
   "metadata": {},
   "source": [
    "#### Yearwise total views and likes"
   ]
  },
  {
   "cell_type": "code",
   "execution_count": 24,
   "id": "93e8f006",
   "metadata": {},
   "outputs": [
    {
     "data": {
      "text/html": [
       "<div>\n",
       "<style scoped>\n",
       "    .dataframe tbody tr th:only-of-type {\n",
       "        vertical-align: middle;\n",
       "    }\n",
       "\n",
       "    .dataframe tbody tr th {\n",
       "        vertical-align: top;\n",
       "    }\n",
       "\n",
       "    .dataframe thead th {\n",
       "        text-align: right;\n",
       "    }\n",
       "</style>\n",
       "<table border=\"1\" class=\"dataframe\">\n",
       "  <thead>\n",
       "    <tr style=\"text-align: right;\">\n",
       "      <th></th>\n",
       "      <th>Views</th>\n",
       "      <th>Likes</th>\n",
       "      <th>month</th>\n",
       "      <th>day</th>\n",
       "    </tr>\n",
       "    <tr>\n",
       "      <th>year</th>\n",
       "      <th></th>\n",
       "      <th></th>\n",
       "      <th></th>\n",
       "      <th></th>\n",
       "    </tr>\n",
       "  </thead>\n",
       "  <tbody>\n",
       "    <tr>\n",
       "      <th>2014</th>\n",
       "      <td>4364</td>\n",
       "      <td>117</td>\n",
       "      <td>6</td>\n",
       "      <td>1</td>\n",
       "    </tr>\n",
       "    <tr>\n",
       "      <th>2017</th>\n",
       "      <td>218069</td>\n",
       "      <td>1400</td>\n",
       "      <td>44</td>\n",
       "      <td>103</td>\n",
       "    </tr>\n",
       "    <tr>\n",
       "      <th>2018</th>\n",
       "      <td>390394</td>\n",
       "      <td>5799</td>\n",
       "      <td>47</td>\n",
       "      <td>139</td>\n",
       "    </tr>\n",
       "    <tr>\n",
       "      <th>2019</th>\n",
       "      <td>19042477</td>\n",
       "      <td>488690</td>\n",
       "      <td>2194</td>\n",
       "      <td>4322</td>\n",
       "    </tr>\n",
       "    <tr>\n",
       "      <th>2020</th>\n",
       "      <td>16011614</td>\n",
       "      <td>421072</td>\n",
       "      <td>3123</td>\n",
       "      <td>8233</td>\n",
       "    </tr>\n",
       "    <tr>\n",
       "      <th>2021</th>\n",
       "      <td>8914887</td>\n",
       "      <td>274214</td>\n",
       "      <td>2632</td>\n",
       "      <td>6913</td>\n",
       "    </tr>\n",
       "    <tr>\n",
       "      <th>2022</th>\n",
       "      <td>1880995</td>\n",
       "      <td>33232</td>\n",
       "      <td>43</td>\n",
       "      <td>781</td>\n",
       "    </tr>\n",
       "  </tbody>\n",
       "</table>\n",
       "</div>"
      ],
      "text/plain": [
       "         Views   Likes  month   day\n",
       "year                               \n",
       "2014      4364     117      6     1\n",
       "2017    218069    1400     44   103\n",
       "2018    390394    5799     47   139\n",
       "2019  19042477  488690   2194  4322\n",
       "2020  16011614  421072   3123  8233\n",
       "2021   8914887  274214   2632  6913\n",
       "2022   1880995   33232     43   781"
      ]
     },
     "execution_count": 24,
     "metadata": {},
     "output_type": "execute_result"
    }
   ],
   "source": [
    "data.groupby(data['year']).sum()"
   ]
  },
  {
   "cell_type": "markdown",
   "id": "9ebf7ae9",
   "metadata": {},
   "source": [
    "#### Yearwise statistics using scatterplots"
   ]
  },
  {
   "cell_type": "code",
   "execution_count": 25,
   "id": "7c093f07",
   "metadata": {},
   "outputs": [
    {
     "data": {
      "image/png": "[encoded data removed]",
      "text/plain": [
       "<Figure size 864x360 with 2 Axes>"
      ]
     },
     "metadata": {
      "needs_background": "light"
     },
     "output_type": "display_data"
    }
   ],
   "source": [
    "import sys\n",
    "\n",
    "if not sys.warnoptions:\n",
    "    import warnings\n",
    "    warnings.simplefilter(\"ignore\")\n",
    "    \n",
    "fig, (ax1, ax2) = plt.subplots(1, 2)\n",
    "\n",
    "# Yearwise statistics of views\n",
    "sns.scatterplot(data['year'],data['Views'],ax=ax1)\n",
    "ax1.set_title('Figure 1',fontsize=12)\n",
    "ax1.set_xticks(data['year'])\n",
    "ax1.set_xticklabels(data['year'],rotation=90,fontsize=10)\n",
    "\n",
    "# Yearwise statistics of likes\n",
    "sns.scatterplot(data['year'],data['Likes'],ax=ax2)\n",
    "ax2.set_title('Figure 2',fontsize=12)\n",
    "ax2.set_xticks(data['year'])\n",
    "ax2.set_xticklabels(data['year'],rotation=90,fontsize=10)\n",
    "\n",
    "plt.tight_layout(pad=3)"
   ]
  },
  {
   "cell_type": "markdown",
   "id": "b5163332",
   "metadata": {},
   "source": [
    "**Insights**: <br>1. Krish Naik Sir uploaded its most viewed video in the year '2019'.<br>2. Krish Naik Sir uploaded its most liked video in the year '2019'."
   ]
  },
  {
   "cell_type": "markdown",
   "id": "40349b0a",
   "metadata": {},
   "source": [
    "#### Top 10 most viewed & Liked videos from the dataset"
   ]
  },
  {
   "cell_type": "code",
   "execution_count": 26,
   "id": "70316905",
   "metadata": {},
   "outputs": [
    {
     "data": {
      "text/html": [
       "<div>\n",
       "<style scoped>\n",
       "    .dataframe tbody tr th:only-of-type {\n",
       "        vertical-align: middle;\n",
       "    }\n",
       "\n",
       "    .dataframe tbody tr th {\n",
       "        vertical-align: top;\n",
       "    }\n",
       "\n",
       "    .dataframe thead th {\n",
       "        text-align: right;\n",
       "    }\n",
       "</style>\n",
       "<table border=\"1\" class=\"dataframe\">\n",
       "  <thead>\n",
       "    <tr style=\"text-align: right;\">\n",
       "      <th></th>\n",
       "      <th>Title</th>\n",
       "      <th>Views</th>\n",
       "      <th>Likes</th>\n",
       "      <th>Published_date</th>\n",
       "      <th>year</th>\n",
       "      <th>month</th>\n",
       "      <th>day</th>\n",
       "    </tr>\n",
       "  </thead>\n",
       "  <tbody>\n",
       "    <tr>\n",
       "      <th>1062</th>\n",
       "      <td>AI VS ML VS DL VS Data Science</td>\n",
       "      <td>1989894</td>\n",
       "      <td>49165</td>\n",
       "      <td>2019-11-26</td>\n",
       "      <td>2019</td>\n",
       "      <td>11</td>\n",
       "      <td>26</td>\n",
       "    </tr>\n",
       "    <tr>\n",
       "      <th>1180</th>\n",
       "      <td>How To Learn Data Science Smartly?</td>\n",
       "      <td>1224517</td>\n",
       "      <td>41469</td>\n",
       "      <td>2019-08-22</td>\n",
       "      <td>2019</td>\n",
       "      <td>8</td>\n",
       "      <td>22</td>\n",
       "    </tr>\n",
       "    <tr>\n",
       "      <th>622</th>\n",
       "      <td>Complete Road Map To Be Expert In Python- Foll...</td>\n",
       "      <td>1115038</td>\n",
       "      <td>12435</td>\n",
       "      <td>2020-09-18</td>\n",
       "      <td>2020</td>\n",
       "      <td>9</td>\n",
       "      <td>18</td>\n",
       "    </tr>\n",
       "    <tr>\n",
       "      <th>58</th>\n",
       "      <td>OTT Platform For Education OneNeuron- Educatio...</td>\n",
       "      <td>722171</td>\n",
       "      <td>859</td>\n",
       "      <td>2021-12-11</td>\n",
       "      <td>2021</td>\n",
       "      <td>12</td>\n",
       "      <td>11</td>\n",
       "    </tr>\n",
       "    <tr>\n",
       "      <th>612</th>\n",
       "      <td>Complete Road Map To Prepare NLP-Follow This V...</td>\n",
       "      <td>497752</td>\n",
       "      <td>3292</td>\n",
       "      <td>2020-09-25</td>\n",
       "      <td>2020</td>\n",
       "      <td>9</td>\n",
       "      <td>25</td>\n",
       "    </tr>\n",
       "    <tr>\n",
       "      <th>1171</th>\n",
       "      <td>How To Learn Data Science by Self Study and Fo...</td>\n",
       "      <td>467996</td>\n",
       "      <td>25044</td>\n",
       "      <td>2019-08-27</td>\n",
       "      <td>2019</td>\n",
       "      <td>8</td>\n",
       "      <td>27</td>\n",
       "    </tr>\n",
       "    <tr>\n",
       "      <th>34</th>\n",
       "      <td>Complete Roadmap For Becoming A Blockchain Dev...</td>\n",
       "      <td>433321</td>\n",
       "      <td>1753</td>\n",
       "      <td>2022-01-11</td>\n",
       "      <td>2022</td>\n",
       "      <td>1</td>\n",
       "      <td>11</td>\n",
       "    </tr>\n",
       "    <tr>\n",
       "      <th>512</th>\n",
       "      <td>Negotiating Salaries With HR for Any Job Is An...</td>\n",
       "      <td>395843</td>\n",
       "      <td>10616</td>\n",
       "      <td>2020-12-30</td>\n",
       "      <td>2020</td>\n",
       "      <td>12</td>\n",
       "      <td>30</td>\n",
       "    </tr>\n",
       "    <tr>\n",
       "      <th>41</th>\n",
       "      <td>Learning Data Science In 2022- Step By Step Plan</td>\n",
       "      <td>365625</td>\n",
       "      <td>4012</td>\n",
       "      <td>2022-01-04</td>\n",
       "      <td>2022</td>\n",
       "      <td>1</td>\n",
       "      <td>4</td>\n",
       "    </tr>\n",
       "    <tr>\n",
       "      <th>727</th>\n",
       "      <td>Live- Implementation of End To End Kaggle Mach...</td>\n",
       "      <td>348238</td>\n",
       "      <td>10049</td>\n",
       "      <td>2020-06-30</td>\n",
       "      <td>2020</td>\n",
       "      <td>6</td>\n",
       "      <td>30</td>\n",
       "    </tr>\n",
       "  </tbody>\n",
       "</table>\n",
       "</div>"
      ],
      "text/plain": [
       "                                                  Title    Views  Likes  \\\n",
       "1062                     AI VS ML VS DL VS Data Science  1989894  49165   \n",
       "1180                 How To Learn Data Science Smartly?  1224517  41469   \n",
       "622   Complete Road Map To Be Expert In Python- Foll...  1115038  12435   \n",
       "58    OTT Platform For Education OneNeuron- Educatio...   722171    859   \n",
       "612   Complete Road Map To Prepare NLP-Follow This V...   497752   3292   \n",
       "1171  How To Learn Data Science by Self Study and Fo...   467996  25044   \n",
       "34    Complete Roadmap For Becoming A Blockchain Dev...   433321   1753   \n",
       "512   Negotiating Salaries With HR for Any Job Is An...   395843  10616   \n",
       "41     Learning Data Science In 2022- Step By Step Plan   365625   4012   \n",
       "727   Live- Implementation of End To End Kaggle Mach...   348238  10049   \n",
       "\n",
       "     Published_date  year  month  day  \n",
       "1062     2019-11-26  2019     11   26  \n",
       "1180     2019-08-22  2019      8   22  \n",
       "622      2020-09-18  2020      9   18  \n",
       "58       2021-12-11  2021     12   11  \n",
       "612      2020-09-25  2020      9   25  \n",
       "1171     2019-08-27  2019      8   27  \n",
       "34       2022-01-11  2022      1   11  \n",
       "512      2020-12-30  2020     12   30  \n",
       "41       2022-01-04  2022      1    4  \n",
       "727      2020-06-30  2020      6   30  "
      ]
     },
     "execution_count": 26,
     "metadata": {},
     "output_type": "execute_result"
    }
   ],
   "source": [
    "top_viewed_video = data.sort_values(by='Views',ascending=False).head(10)\n",
    "top_viewed_video"
   ]
  },
  {
   "cell_type": "code",
   "execution_count": 27,
   "id": "8b3deeb6",
   "metadata": {},
   "outputs": [
    {
     "data": {
      "text/html": [
       "<div>\n",
       "<style scoped>\n",
       "    .dataframe tbody tr th:only-of-type {\n",
       "        vertical-align: middle;\n",
       "    }\n",
       "\n",
       "    .dataframe tbody tr th {\n",
       "        vertical-align: top;\n",
       "    }\n",
       "\n",
       "    .dataframe thead th {\n",
       "        text-align: right;\n",
       "    }\n",
       "</style>\n",
       "<table border=\"1\" class=\"dataframe\">\n",
       "  <thead>\n",
       "    <tr style=\"text-align: right;\">\n",
       "      <th></th>\n",
       "      <th>Title</th>\n",
       "      <th>Views</th>\n",
       "      <th>Likes</th>\n",
       "      <th>Published_date</th>\n",
       "      <th>year</th>\n",
       "      <th>month</th>\n",
       "      <th>day</th>\n",
       "    </tr>\n",
       "  </thead>\n",
       "  <tbody>\n",
       "    <tr>\n",
       "      <th>1062</th>\n",
       "      <td>AI VS ML VS DL VS Data Science</td>\n",
       "      <td>1989894</td>\n",
       "      <td>49165</td>\n",
       "      <td>2019-11-26</td>\n",
       "      <td>2019</td>\n",
       "      <td>11</td>\n",
       "      <td>26</td>\n",
       "    </tr>\n",
       "    <tr>\n",
       "      <th>1180</th>\n",
       "      <td>How To Learn Data Science Smartly?</td>\n",
       "      <td>1224517</td>\n",
       "      <td>41469</td>\n",
       "      <td>2019-08-22</td>\n",
       "      <td>2019</td>\n",
       "      <td>8</td>\n",
       "      <td>22</td>\n",
       "    </tr>\n",
       "    <tr>\n",
       "      <th>1171</th>\n",
       "      <td>How To Learn Data Science by Self Study and Fo...</td>\n",
       "      <td>467996</td>\n",
       "      <td>25044</td>\n",
       "      <td>2019-08-27</td>\n",
       "      <td>2019</td>\n",
       "      <td>8</td>\n",
       "      <td>27</td>\n",
       "    </tr>\n",
       "    <tr>\n",
       "      <th>622</th>\n",
       "      <td>Complete Road Map To Be Expert In Python- Foll...</td>\n",
       "      <td>1115038</td>\n",
       "      <td>12435</td>\n",
       "      <td>2020-09-18</td>\n",
       "      <td>2020</td>\n",
       "      <td>9</td>\n",
       "      <td>18</td>\n",
       "    </tr>\n",
       "    <tr>\n",
       "      <th>1138</th>\n",
       "      <td>How Did I Learn Machine Learning in 3 Months</td>\n",
       "      <td>318134</td>\n",
       "      <td>11507</td>\n",
       "      <td>2019-09-18</td>\n",
       "      <td>2019</td>\n",
       "      <td>9</td>\n",
       "      <td>18</td>\n",
       "    </tr>\n",
       "    <tr>\n",
       "      <th>512</th>\n",
       "      <td>Negotiating Salaries With HR for Any Job Is An...</td>\n",
       "      <td>395843</td>\n",
       "      <td>10616</td>\n",
       "      <td>2020-12-30</td>\n",
       "      <td>2020</td>\n",
       "      <td>12</td>\n",
       "      <td>30</td>\n",
       "    </tr>\n",
       "    <tr>\n",
       "      <th>727</th>\n",
       "      <td>Live- Implementation of End To End Kaggle Mach...</td>\n",
       "      <td>348238</td>\n",
       "      <td>10049</td>\n",
       "      <td>2020-06-30</td>\n",
       "      <td>2020</td>\n",
       "      <td>6</td>\n",
       "      <td>30</td>\n",
       "    </tr>\n",
       "    <tr>\n",
       "      <th>511</th>\n",
       "      <td>6 Certifications In Data Science But No Jobs- ...</td>\n",
       "      <td>321358</td>\n",
       "      <td>9998</td>\n",
       "      <td>2020-12-31</td>\n",
       "      <td>2020</td>\n",
       "      <td>12</td>\n",
       "      <td>31</td>\n",
       "    </tr>\n",
       "    <tr>\n",
       "      <th>997</th>\n",
       "      <td>Step By Step Action Plan For Learning Data Sci...</td>\n",
       "      <td>239733</td>\n",
       "      <td>8688</td>\n",
       "      <td>2020-01-26</td>\n",
       "      <td>2020</td>\n",
       "      <td>1</td>\n",
       "      <td>26</td>\n",
       "    </tr>\n",
       "    <tr>\n",
       "      <th>1177</th>\n",
       "      <td>Tutorial 43-Random Forest Classifier and Regre...</td>\n",
       "      <td>206697</td>\n",
       "      <td>8119</td>\n",
       "      <td>2019-08-24</td>\n",
       "      <td>2019</td>\n",
       "      <td>8</td>\n",
       "      <td>24</td>\n",
       "    </tr>\n",
       "  </tbody>\n",
       "</table>\n",
       "</div>"
      ],
      "text/plain": [
       "                                                  Title    Views  Likes  \\\n",
       "1062                     AI VS ML VS DL VS Data Science  1989894  49165   \n",
       "1180                 How To Learn Data Science Smartly?  1224517  41469   \n",
       "1171  How To Learn Data Science by Self Study and Fo...   467996  25044   \n",
       "622   Complete Road Map To Be Expert In Python- Foll...  1115038  12435   \n",
       "1138       How Did I Learn Machine Learning in 3 Months   318134  11507   \n",
       "512   Negotiating Salaries With HR for Any Job Is An...   395843  10616   \n",
       "727   Live- Implementation of End To End Kaggle Mach...   348238  10049   \n",
       "511   6 Certifications In Data Science But No Jobs- ...   321358   9998   \n",
       "997   Step By Step Action Plan For Learning Data Sci...   239733   8688   \n",
       "1177  Tutorial 43-Random Forest Classifier and Regre...   206697   8119   \n",
       "\n",
       "     Published_date  year  month  day  \n",
       "1062     2019-11-26  2019     11   26  \n",
       "1180     2019-08-22  2019      8   22  \n",
       "1171     2019-08-27  2019      8   27  \n",
       "622      2020-09-18  2020      9   18  \n",
       "1138     2019-09-18  2019      9   18  \n",
       "512      2020-12-30  2020     12   30  \n",
       "727      2020-06-30  2020      6   30  \n",
       "511      2020-12-31  2020     12   31  \n",
       "997      2020-01-26  2020      1   26  \n",
       "1177     2019-08-24  2019      8   24  "
      ]
     },
     "execution_count": 27,
     "metadata": {},
     "output_type": "execute_result"
    }
   ],
   "source": [
    "data.sort_values(by='Likes',ascending=False).head(10)"
   ]
  },
  {
   "cell_type": "code",
   "execution_count": 28,
   "id": "1ebfb7ac",
   "metadata": {},
   "outputs": [
    {
     "data": {
      "image/png": "[encoded data removed]",
      "text/plain": [
       "<Figure size 864x360 with 1 Axes>"
      ]
     },
     "metadata": {
      "needs_background": "light"
     },
     "output_type": "display_data"
    }
   ],
   "source": [
    "ax1 = sns.barplot(x='Views', y='Title', data=top_viewed_video)"
   ]
  },
  {
   "cell_type": "markdown",
   "id": "9b8cc05b",
   "metadata": {},
   "source": [
    "## Asking and Answering Questions\n",
    "\n",
    "We've seen many relationships above. Now, we'll see some interesting questions from the above insights of plots and about the channel according to our dataset."
   ]
  },
  {
   "cell_type": "markdown",
   "id": "f3f628c8",
   "metadata": {},
   "source": [
    "#### Q1. Has this Corona pandemic affected this channel till now?"
   ]
  },
  {
   "cell_type": "markdown",
   "id": "722759a7",
   "metadata": {},
   "source": [
    "According to the yearwise statistics, Krish Naik Sir has uploaded 516 in 2020 and 467 videos till now in year 2021 which is higher than the total number of videos uploaded in year 2019. Also, channel is doing good in terms of views, likes and comments in this year so they are able to manage the channel in this pandemic with their video content."
   ]
  },
  {
   "cell_type": "markdown",
   "id": "6a7a4ca2",
   "metadata": {},
   "source": [
    "#### Q2:  What is the title of most famous video of this channel?"
   ]
  },
  {
   "cell_type": "code",
   "execution_count": 29,
   "id": "97394b21",
   "metadata": {},
   "outputs": [
    {
     "data": {
      "text/html": [
       "<div>\n",
       "<style scoped>\n",
       "    .dataframe tbody tr th:only-of-type {\n",
       "        vertical-align: middle;\n",
       "    }\n",
       "\n",
       "    .dataframe tbody tr th {\n",
       "        vertical-align: top;\n",
       "    }\n",
       "\n",
       "    .dataframe thead th {\n",
       "        text-align: right;\n",
       "    }\n",
       "</style>\n",
       "<table border=\"1\" class=\"dataframe\">\n",
       "  <thead>\n",
       "    <tr style=\"text-align: right;\">\n",
       "      <th></th>\n",
       "      <th>Title</th>\n",
       "      <th>Views</th>\n",
       "      <th>Likes</th>\n",
       "      <th>Published_date</th>\n",
       "      <th>year</th>\n",
       "      <th>month</th>\n",
       "      <th>day</th>\n",
       "    </tr>\n",
       "  </thead>\n",
       "  <tbody>\n",
       "    <tr>\n",
       "      <th>1062</th>\n",
       "      <td>AI VS ML VS DL VS Data Science</td>\n",
       "      <td>1989894</td>\n",
       "      <td>49165</td>\n",
       "      <td>2019-11-26</td>\n",
       "      <td>2019</td>\n",
       "      <td>11</td>\n",
       "      <td>26</td>\n",
       "    </tr>\n",
       "  </tbody>\n",
       "</table>\n",
       "</div>"
      ],
      "text/plain": [
       "                               Title    Views  Likes Published_date  year  \\\n",
       "1062  AI VS ML VS DL VS Data Science  1989894  49165     2019-11-26  2019   \n",
       "\n",
       "      month  day  \n",
       "1062     11   26  "
      ]
     },
     "execution_count": 29,
     "metadata": {},
     "output_type": "execute_result"
    }
   ],
   "source": [
    "pd.options.display.max_colwidth = 50\n",
    "data.sort_values(by='Views',ascending=False).head(1)"
   ]
  },
  {
   "cell_type": "code",
   "execution_count": 30,
   "id": "06f50128",
   "metadata": {},
   "outputs": [
    {
     "name": "stdout",
     "output_type": "stream",
     "text": [
      "1062    AI VS ML VS DL VS Data Science\n",
      "Name: Title, dtype: object\n"
     ]
    }
   ],
   "source": [
    "pd.options.display.max_colwidth = 100\n",
    "print(data.sort_values(by='Views',ascending=False).head(1)['Title'])"
   ]
  },
  {
   "cell_type": "markdown",
   "id": "c60eb968",
   "metadata": {},
   "source": [
    "#### Q3: Which are the recent videos uploaded on this channel?"
   ]
  },
  {
   "cell_type": "code",
   "execution_count": 31,
   "id": "b073732f",
   "metadata": {},
   "outputs": [
    {
     "data": {
      "text/html": [
       "<div>\n",
       "<style scoped>\n",
       "    .dataframe tbody tr th:only-of-type {\n",
       "        vertical-align: middle;\n",
       "    }\n",
       "\n",
       "    .dataframe tbody tr th {\n",
       "        vertical-align: top;\n",
       "    }\n",
       "\n",
       "    .dataframe thead th {\n",
       "        text-align: right;\n",
       "    }\n",
       "</style>\n",
       "<table border=\"1\" class=\"dataframe\">\n",
       "  <thead>\n",
       "    <tr style=\"text-align: right;\">\n",
       "      <th></th>\n",
       "      <th>Title</th>\n",
       "      <th>Views</th>\n",
       "      <th>Likes</th>\n",
       "      <th>Published_date</th>\n",
       "      <th>year</th>\n",
       "      <th>month</th>\n",
       "      <th>day</th>\n",
       "    </tr>\n",
       "  </thead>\n",
       "  <tbody>\n",
       "    <tr>\n",
       "      <th>0</th>\n",
       "      <td>Announcing 7 Days Live Sessions On Machine Lea...</td>\n",
       "      <td>10910</td>\n",
       "      <td>953</td>\n",
       "      <td>2022-01-31</td>\n",
       "      <td>2022</td>\n",
       "      <td>1</td>\n",
       "      <td>31</td>\n",
       "    </tr>\n",
       "    <tr>\n",
       "      <th>2</th>\n",
       "      <td>How To Calculate P Value In Hypothesis Testing</td>\n",
       "      <td>3451</td>\n",
       "      <td>155</td>\n",
       "      <td>2022-01-30</td>\n",
       "      <td>2022</td>\n",
       "      <td>1</td>\n",
       "      <td>30</td>\n",
       "    </tr>\n",
       "    <tr>\n",
       "      <th>1</th>\n",
       "      <td>Earth In 2050</td>\n",
       "      <td>9785</td>\n",
       "      <td>290</td>\n",
       "      <td>2022-01-30</td>\n",
       "      <td>2022</td>\n",
       "      <td>1</td>\n",
       "      <td>30</td>\n",
       "    </tr>\n",
       "    <tr>\n",
       "      <th>3</th>\n",
       "      <td>Live Day 7- Summarizing Statistics With Python...</td>\n",
       "      <td>9142</td>\n",
       "      <td>614</td>\n",
       "      <td>2022-01-29</td>\n",
       "      <td>2022</td>\n",
       "      <td>1</td>\n",
       "      <td>29</td>\n",
       "    </tr>\n",
       "    <tr>\n",
       "      <th>4</th>\n",
       "      <td>Tutorial 9- MYSQL Stored Procedures -MySQL Com...</td>\n",
       "      <td>2846</td>\n",
       "      <td>105</td>\n",
       "      <td>2022-01-29</td>\n",
       "      <td>2022</td>\n",
       "      <td>1</td>\n",
       "      <td>29</td>\n",
       "    </tr>\n",
       "    <tr>\n",
       "      <th>5</th>\n",
       "      <td>Live Day 6- Advance Statistics With Python In ...</td>\n",
       "      <td>11451</td>\n",
       "      <td>752</td>\n",
       "      <td>2022-01-28</td>\n",
       "      <td>2022</td>\n",
       "      <td>1</td>\n",
       "      <td>28</td>\n",
       "    </tr>\n",
       "    <tr>\n",
       "      <th>6</th>\n",
       "      <td>Live Day 5- Advance Statistics With Python In ...</td>\n",
       "      <td>14014</td>\n",
       "      <td>860</td>\n",
       "      <td>2022-01-27</td>\n",
       "      <td>2022</td>\n",
       "      <td>1</td>\n",
       "      <td>27</td>\n",
       "    </tr>\n",
       "    <tr>\n",
       "      <th>7</th>\n",
       "      <td>Tutorial 8- Discussing All Types Of Joins -MyS...</td>\n",
       "      <td>4335</td>\n",
       "      <td>196</td>\n",
       "      <td>2022-01-27</td>\n",
       "      <td>2022</td>\n",
       "      <td>1</td>\n",
       "      <td>27</td>\n",
       "    </tr>\n",
       "    <tr>\n",
       "      <th>8</th>\n",
       "      <td>Live Day 4- Advance Statistics With Python In ...</td>\n",
       "      <td>19427</td>\n",
       "      <td>1197</td>\n",
       "      <td>2022-01-26</td>\n",
       "      <td>2022</td>\n",
       "      <td>1</td>\n",
       "      <td>26</td>\n",
       "    </tr>\n",
       "    <tr>\n",
       "      <th>9</th>\n",
       "      <td>Vision Of OneNeuron Platform- How We Are Solvi...</td>\n",
       "      <td>8091</td>\n",
       "      <td>309</td>\n",
       "      <td>2022-01-25</td>\n",
       "      <td>2022</td>\n",
       "      <td>1</td>\n",
       "      <td>25</td>\n",
       "    </tr>\n",
       "  </tbody>\n",
       "</table>\n",
       "</div>"
      ],
      "text/plain": [
       "                                               Title  Views  Likes  \\\n",
       "0  Announcing 7 Days Live Sessions On Machine Lea...  10910    953   \n",
       "2     How To Calculate P Value In Hypothesis Testing   3451    155   \n",
       "1                                      Earth In 2050   9785    290   \n",
       "3  Live Day 7- Summarizing Statistics With Python...   9142    614   \n",
       "4  Tutorial 9- MYSQL Stored Procedures -MySQL Com...   2846    105   \n",
       "5  Live Day 6- Advance Statistics With Python In ...  11451    752   \n",
       "6  Live Day 5- Advance Statistics With Python In ...  14014    860   \n",
       "7  Tutorial 8- Discussing All Types Of Joins -MyS...   4335    196   \n",
       "8  Live Day 4- Advance Statistics With Python In ...  19427   1197   \n",
       "9  Vision Of OneNeuron Platform- How We Are Solvi...   8091    309   \n",
       "\n",
       "  Published_date  year  month  day  \n",
       "0     2022-01-31  2022      1   31  \n",
       "2     2022-01-30  2022      1   30  \n",
       "1     2022-01-30  2022      1   30  \n",
       "3     2022-01-29  2022      1   29  \n",
       "4     2022-01-29  2022      1   29  \n",
       "5     2022-01-28  2022      1   28  \n",
       "6     2022-01-27  2022      1   27  \n",
       "7     2022-01-27  2022      1   27  \n",
       "8     2022-01-26  2022      1   26  \n",
       "9     2022-01-25  2022      1   25  "
      ]
     },
     "execution_count": 31,
     "metadata": {},
     "output_type": "execute_result"
    }
   ],
   "source": [
    "# Latest 10 videos from the dataset\n",
    "pd.options.display.max_colwidth = 50\n",
    "data.sort_values(by='Published_date',ascending=False).head(10)"
   ]
  },
  {
   "cell_type": "markdown",
   "id": "54326f63",
   "metadata": {},
   "source": [
    "## Inferences and Conclusion\n",
    "\n",
    "In this project, we extracted Youtube channel Krish Naik' videos information using Youtube API, Python, GoogleApiClient and requests libraries. We prepared our csv dataset using it. We cleaned this raw dataset, performed some operations to make it more convenient to use and analyse. Then we analysed different relationships among  views, likes, comments, months, years etc. We asked and answered some questions based on this information."
   ]
  },
  {
   "cell_type": "markdown",
   "id": "62c10481",
   "metadata": {},
   "source": [
    "### Created By :- Anmol Malviya, Pursuing M.Sc In Data Science And Analytics From School Of Data Science And Forecasting, DAVV,Indore(M.P)\n"
   ]
  }
 ],
 "metadata": {
  "kernelspec": {
   "display_name": "Python 3 (ipykernel)",
   "language": "python",
   "name": "python3"
  },
  "language_info": {
   "codemirror_mode": {
    "name": "ipython",
    "version": 3
   },
   "file_extension": ".py",
   "mimetype": "text/x-python",
   "name": "python",
   "nbconvert_exporter": "python",
   "pygments_lexer": "ipython3",
   "version": "3.9.2"
  }
 },
 "nbformat": 4,
 "nbformat_minor": 5
}
